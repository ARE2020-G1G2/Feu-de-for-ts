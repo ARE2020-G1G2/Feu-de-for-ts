{
 "cells": [
  {
   "cell_type": "markdown",
   "metadata": {},
   "source": [
    "# **Program FEU**"
   ]
  },
  {
   "cell_type": "markdown",
   "metadata": {},
   "source": [
    "**Code de base pour afficher un un quadrillage coloré**"
   ]
  },
  {
   "cell_type": "code",
   "execution_count": 89,
   "metadata": {},
   "outputs": [],
   "source": [
    "from tkinter import *\n",
    "import math\n",
    "import random\n",
    "import threading \n",
    "\n",
    "\n",
    "\n",
    "\n",
    "\n",
    "def creer_fenetre(L,H):\n",
    "    \"\"\"\n",
    "        int*int->fenetre\n",
    "        L=largeur, H=hauteur\n",
    "    \"\"\"\n",
    "    fenetre = Tk()\n",
    "    fenetre.title(\"FEU\")\n",
    "    carre= Canvas(fenetre, width=L, height=H, background='white')\n",
    "    carre.pack()\n",
    "    fenetre.mainloop()\n",
    "    \n",
    "def remplir_fenetre(L,H):\n",
    "    fenetre = Tk()\n",
    "    fenetre.title(\"FEU\")\n",
    "    carre= Canvas(fenetre, width=L, height=H, background='white')\n",
    "    carre.pack()\n",
    "    #carre.create_rectangle(x1,y1,x2,y2)\n",
    "    #i:int\n",
    "    for i in range (0,L//10):\n",
    "        for j in range (0,H//10):\n",
    "            carre.create_rectangle(i*10,j*10,(i+1)*10,(j+1)*10,fill=\"green\")\n",
    "    fenetre.mainloop()   \n"
   ]
  },
  {
   "cell_type": "markdown",
   "metadata": {},
   "source": [
    "**Fonctions pour generer des éléments du terrain**"
   ]
  },
  {
   "cell_type": "code",
   "execution_count": 3,
   "metadata": {},
   "outputs": [],
   "source": [
    "def case_random_eau(L,H,carre): #on peut rajouter une variable type terrain \n",
    "    #k:int\n",
    "    k=0\n",
    "    while k < random.randint(5, 200):\n",
    "        alea1=random.randint(0, L//10)\n",
    "        alea2=random.randint(0, H//10)\n",
    "        carre.create_rectangle(alea1*10,alea2*10,(alea1+1)*10,(alea2+1)*10,fill=\"blue\")\n",
    "        k=k+1"
   ]
  },
  {
   "cell_type": "code",
   "execution_count": 4,
   "metadata": {},
   "outputs": [],
   "source": [
    "def case_random_vide(L,H,carre): #on peut rajouter une variable type terrain \n",
    "    #k:int\n",
    "    k=0\n",
    "    while k < random.randint(500, 700):\n",
    "        alea1=random.randint(0, L//10)\n",
    "        alea2=random.randint(0, H//10)\n",
    "        carre.create_rectangle(alea1*10,alea2*10,(alea1+1)*10,(alea2+1)*10,fill=\"peru\")\n",
    "        k=k+1"
   ]
  },
  {
   "cell_type": "markdown",
   "metadata": {},
   "source": [
    "**Creer un terrain aléatoire**"
   ]
  },
  {
   "cell_type": "code",
   "execution_count": 6,
   "metadata": {},
   "outputs": [],
   "source": [
    "def initialiser_terrain(L,H): #on peut rajouter une variable type terrain \n",
    "    \"\"\"L=largeur, H=hauteur,\"\"\"\n",
    "    fenetre = Tk()\n",
    "    fenetre.title(\"FEU\")\n",
    "    carre= Canvas(fenetre, width=L, height=H, background='white')\n",
    "    #carre.create_rectangle(x1,y1,x2,y2)\n",
    "    for i in range (0,L//10):\n",
    "        for j in range (0,H//10):\n",
    "            carre.create_rectangle(i*10,j*10,(i+1)*10,(j+1)*10,fill=\"green\")\n",
    "    case_random_eau(L,H,carre)\n",
    "    case_random_vide(L,H,carre)\n",
    "    carre.pack()\n",
    "    fenetre.mainloop() \n",
    "    "
   ]
  },
  {
   "cell_type": "code",
   "execution_count": 7,
   "metadata": {},
   "outputs": [],
   "source": [
    "initialiser_terrain(500,500)"
   ]
  },
  {
   "cell_type": "markdown",
   "metadata": {},
   "source": [
    "**Modifier le terrain**\n"
   ]
  },
  {
   "cell_type": "code",
   "execution_count": 20,
   "metadata": {},
   "outputs": [],
   "source": [
    "def init_feu(L,H,carre):\n",
    "    originx=random.randint(0, L//10)\n",
    "    originy=random.randint(0, H//10)\n",
    "    carre.create_rectangle(originx*10,originy*10,(originx+1)*10,(originy+1)*10,fill=\"red\")\n",
    "    return [originx,originy]"
   ]
  },
  {
   "cell_type": "code",
   "execution_count": 49,
   "metadata": {},
   "outputs": [],
   "source": [
    "def modifier_terrain(L,H,carre,liste): #creer liste/tuple pour stocker coordonnées de cases en feu?\n",
    "    \"\"\"\"\"\"\n",
    "    originx=liste[0]  #methode temporaire, meilleure solution a trouver\n",
    "    originy=liste[1]\n",
    "    carre.create_rectangle((originx+1)*10,originy*10,(originx+2)*10,(originy+1)*10,fill=\"red\")\n",
    "    carre.create_rectangle((originx-1)*10,originy*10,(originx)*10,(originy+1)*10,fill=\"red\")\n",
    "    carre.create_rectangle(originx*10,(originy+1)*10,(originx+1)*10,(originy+2)*10,fill=\"red\")\n",
    "    carre.create_rectangle(originx*10,(originy-1)*10,(originx+1)*10,(originy)*10,fill=\"red\")\n",
    "    \n",
    "    "
   ]
  },
  {
   "cell_type": "markdown",
   "metadata": {},
   "source": [
    "**Fonction finale *(prototype)***"
   ]
  },
  {
   "cell_type": "code",
   "execution_count": 36,
   "metadata": {},
   "outputs": [],
   "source": [
    "def feu(parametres):\n",
    "    initialiser_terrain()\n",
    "    init_feu()\n",
    "    if parametres == parametres1:\n",
    "        while boucle!=fin:\n",
    "            modifier_terrain(parametres1)\n",
    "    if parametres == parametres2:\n",
    "        while boucle!=fin:\n",
    "            modifier_terrain(parametres2)\n",
    "    "
   ]
  },
  {
   "cell_type": "markdown",
   "metadata": {},
   "source": [
    "**Tests**"
   ]
  },
  {
   "cell_type": "code",
   "execution_count": 37,
   "metadata": {},
   "outputs": [],
   "source": [
    "def test_init_feu(L,H):\n",
    "    fenetre = Tk()\n",
    "    fenetre.title(\"FEU\")\n",
    "    carre= Canvas(fenetre, width=L, height=H, background='white')\n",
    "    #carre.create_rectangle(x1,y1,x2,y2)\n",
    "    for i in range (0,L//10):\n",
    "        for j in range (0,H//10):\n",
    "            carre.create_rectangle(i*10,j*10,(i+1)*10,(j+1)*10,fill=\"green\")\n",
    "    case_random_eau(L,H,carre)\n",
    "    case_random_vide(L,H,carre)\n",
    "    init_feu(L,H,carre)\n",
    "    carre.pack()\n",
    "    fenetre.mainloop() "
   ]
  },
  {
   "cell_type": "code",
   "execution_count": 38,
   "metadata": {},
   "outputs": [],
   "source": [
    "test_init_feu(500,500)"
   ]
  },
  {
   "cell_type": "code",
   "execution_count": 87,
   "metadata": {},
   "outputs": [],
   "source": [
    "def test_modifier_terrain(L,H):\n",
    "    fenetre = Tk()\n",
    "    fenetre.title(\"FEU\")\n",
    "    carre= Canvas(fenetre, width=L, height=H, background='white')\n",
    "    #carre.create_rectangle(x1,y1,x2,y2)\n",
    "    for i in range (0,L//10):\n",
    "        for j in range (0,H//10):\n",
    "            carre.create_rectangle(i*10,j*10,(i+1)*10,(j+1)*10,fill=\"green\")\n",
    "    case_random_eau(L,H,carre)\n",
    "    case_random_vide(L,H,carre)\n",
    "    liste=init_feu(L,H,carre)\n",
    "    #timer pour montrer evolution\n",
    "    timer = threading.Timer(3.0, modifier_terrain,[L,H,carre,liste]) \n",
    "    timer.start() \n",
    "    carre.pack()\n",
    "    fenetre.mainloop() "
   ]
  },
  {
   "cell_type": "code",
   "execution_count": 88,
   "metadata": {},
   "outputs": [],
   "source": [
    "test_modifier_terrain(550,550)"
   ]
  },
  {
   "cell_type": "code",
   "execution_count": null,
   "metadata": {},
   "outputs": [],
   "source": []
  }
 ],
 "metadata": {
  "kernelspec": {
   "display_name": "Python 3",
   "language": "python",
   "name": "python3"
  },
  "language_info": {
   "codemirror_mode": {
    "name": "ipython",
    "version": 3
   },
   "file_extension": ".py",
   "mimetype": "text/x-python",
   "name": "python",
   "nbconvert_exporter": "python",
   "pygments_lexer": "ipython3",
   "version": "3.7.6"
  }
 },
 "nbformat": 4,
 "nbformat_minor": 4
}
