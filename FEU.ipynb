{
 "cells": [
  {
   "cell_type": "markdown",
   "metadata": {},
   "source": [
    "#### Les imports"
   ]
  },
  {
   "cell_type": "code",
   "execution_count": 1,
   "metadata": {},
   "outputs": [],
   "source": [
    "from tkinter import *\n",
    "from random import randrange\n",
    "from math import copysign"
   ]
  },
  {
   "cell_type": "markdown",
   "metadata": {},
   "source": [
    "# LES FONCTIONS "
   ]
  },
  {
   "cell_type": "code",
   "execution_count": 2,
   "metadata": {},
   "outputs": [],
   "source": [
    "def changer_couleur (i,colour):\n",
    "    \"\"\"change de couleur le rectangle à l'indice i dans la liste L \"\"\"\n",
    "    canvas.itemconfigure( L[i][0],fill=colour)\n",
    "    L[i][3]=colour"
   ]
  },
  {
   "cell_type": "markdown",
   "metadata": {},
   "source": [
    "#### Création du terrain "
   ]
  },
  {
   "cell_type": "code",
   "execution_count": 3,
   "metadata": {},
   "outputs": [],
   "source": [
    "def creation_terrain ():\n",
    "    \"\"\" Crée le terrain de base avec des rectangles (20*20) seulement vert.\n",
    "    Les dimensions des rectangles nous obligent à avoir un Canvas de hauteur et de longueur divisible par 20\n",
    "    Nous mettons toutes les informations relatifs à chaque rectangle dans la liste L\"\"\"\n",
    "    for j in range (0,hauteur,20):\n",
    "        for i in range (0,longueur,20):\n",
    "            rectangle = canvas.create_rectangle(i,j,i+20,j+20,fill=\"green\")\n",
    "            L.append ([rectangle,i,j,\"green\",0]) # //0 -> le rectangle//1 -> sa coordonéee x// 2 -> y //3 -> sa couleur//4-> compteur cendre//"
   ]
  },
  {
   "cell_type": "code",
   "execution_count": 4,
   "metadata": {},
   "outputs": [],
   "source": [
    "def vide():\n",
    "    \"\"\" crée 100 cases vides de couleur blanche aléatoirement dans le terrain\"\"\"\n",
    "    k=0\n",
    "    while (k<100): \n",
    "        i=randrange(0,len(L))\n",
    "        k=k+1\n",
    "        changer_couleur(i,\"white\")"
   ]
  },
  {
   "cell_type": "code",
   "execution_count": 5,
   "metadata": {},
   "outputs": [],
   "source": [
    "def initialisation_feu ():\n",
    "    \"\"\" fonction associée à un bouton qui rend UNE case rouge aléatoirement\"\"\"\n",
    "    i= randrange( nb_cases)\n",
    "    while (L[i][3]!=\"green\"):\n",
    "        i= randrange( nb_cases)\n",
    "    changer_couleur (i,\"red\")    \n",
    "    "
   ]
  },
  {
   "cell_type": "code",
   "execution_count": 6,
   "metadata": {},
   "outputs": [],
   "source": [
    "def case_eau(n,i):\n",
    "    \"\"\" fonction qui rend bleu le rectangle d'indice i et les n rectangles au dessus\n",
    "    On se servira de cette fonction pour créer des rivières aléatoires \"\"\"\n",
    "    changer_couleur(i,\"blue\")\n",
    "    signe=int( copysign(1,n) )\n",
    "    \n",
    "    k=0\n",
    "    while (k!=n):\n",
    "        k+=signe\n",
    "        if ( (signe>0 and i+30 <=899) or (signe < 0 and i-30 >=0)):\n",
    "            i=i + 30*signe\n",
    "            changer_couleur(i,\"blue\")\n",
    "    "
   ]
  },
  {
   "cell_type": "code",
   "execution_count": 7,
   "metadata": {},
   "outputs": [],
   "source": [
    "def riviere_aleatoire():\n",
    "    \"\"\" fonction associée à un bouton qui joint deux points aléatoires situées sur deux côté différents du Canvas\n",
    "    avec une rivière d'épaisseur aléatoire\"\"\"\n",
    "    L1=[\"droite\",\"gauche\",\"haut\",\"bas\"]\n",
    "    depart=L1[randrange(2)] # depart vaut aléatoirement droite ou gauche\n",
    "    direction=L1[randrange(2,4)] # direction vaut aléatoirement haut ou bas\n",
    "    if (depart==\"gauche\"):\n",
    "        depart= randrange (nb_colonne)*30 # il s'agit de toutes les cases de la première colonne \n",
    "        dx=+1\n",
    "    if (depart==\"droite\"):\n",
    "        depart =randrange(1,nb_colonne+1)*30 -1 #il s'agit de toutes les cases de la dernière colonne \n",
    "        dx=-1\n",
    "    e= randrange(1,4) # L'épaisseur aléatoire de la rivière\n",
    "    if (direction ==\"haut\"):\n",
    "        e=-e\n",
    "        while (depart-nb_colonne>0): # tant qu'on atteind pas la première ligne\n",
    "            case_eau(e,depart) # on rend les e cases au dessus de depart et lui même bleues\n",
    "            depart= depart - nb_colonne+dx # on déplace départ en diagonale \n",
    "    \n",
    "    if (direction ==\"bas\"):\n",
    "        while (depart+nb_colonne<900): # tant qu'on atteind pas la dernière ligne \n",
    "            case_eau(e,depart) # on rend les e cases au dessus de lui bleues\n",
    "            depart= depart + nb_colonne+dx # on déplace départ en diagonale "
   ]
  },
  {
   "cell_type": "markdown",
   "metadata": {},
   "source": [
    "#### L'animation de propagation du feu "
   ]
  },
  {
   "cell_type": "code",
   "execution_count": 8,
   "metadata": {},
   "outputs": [],
   "source": [
    "def case_adjacente(i):\n",
    "    \"\"\" Prend en paramètre l'indice d'une case en feu, retourne une liste des cases vertes adjacentes à cette case en feu\n",
    "    qui ont passé le test de propabilité. Retourne une liste d'indice de case à enflammer\"\"\"\n",
    "    M=[]\n",
    "    #case du haut\n",
    "    if (L[i][2]!=0 and L[i-nb_colonne][3]==\"green\" and test_case(\"nord\")):\n",
    "        M.append(i-nb_colonne)\n",
    "    #case du bas\n",
    "    if (L[i][2]!=hauteur-20 and L[i+nb_colonne][3]==\"green\" and test_case(\"sud\")):\n",
    "        M.append(i+nb_colonne)\n",
    "    # case de gauche \n",
    "    if (L[i][1]!=0 and L[i-1][3]==\"green\" and test_case (\"ouest\")):\n",
    "        M.append(i-1)\n",
    "    #case de droite\n",
    "    if (L[i][1]!=longueur-20 and L[i+1][3]==\"green\" and test_case(\"est\")):\n",
    "        M.append(i+1)\n",
    "    return M"
   ]
  },
  {
   "cell_type": "code",
   "execution_count": 9,
   "metadata": {},
   "outputs": [],
   "source": [
    "def propagation_feu ():\n",
    "    \"\"\" fonction qui se rappelle elle-même toutes les 100 ms. Elle envoie à la fonction case_adjacente toutes les cases \n",
    "    enflammées. On stocke dans la liste M toutes les indices des cases renvoyées par case_adjacente. Ce seront les cases\n",
    "    à enflammées. On les enflamme et toutes les cases rouge dont le compteur_cendre devient égal à tour_cendre deviennent grises.\n",
    "    Ce sont des cendres qui ne seront plus imflammables \"\"\" \n",
    "    FEU=[]\n",
    "    CENDRE=[]\n",
    "    for i in range ( 0,len(L)):\n",
    "        if (L[i][3]==\"red\"):\n",
    "            FEU.extend(case_adjacente(i))\n",
    "            L[i][4]+=1\n",
    "            if (L[i][4] == tour_cendre):\n",
    "                CENDRE.append(i)\n",
    "    for j in FEU:\n",
    "        changer_couleur(j,\"red\")\n",
    "    for k in CENDRE:\n",
    "        changer_couleur (k,\"grey\")\n",
    "    fen.after (100,propagation_feu)    \n",
    "        "
   ]
  },
  {
   "cell_type": "markdown",
   "metadata": {},
   "source": [
    "#### Le test de probabilité "
   ]
  },
  {
   "cell_type": "code",
   "execution_count": 10,
   "metadata": {},
   "outputs": [],
   "source": [
    "def direction_vent(event):\n",
    "    \"\"\" fonction qui assigne à la variable direction la chaine de caractère rentrée par l'utilisateur.\n",
    "    La direction du vent, pourra être nord,est,ouest ou sud en miniscule\"\"\"\n",
    "    global direction \n",
    "    direction = entre_direction.get()\n",
    "    text1.configure(text=\"Direction du vent: \"+direction)"
   ]
  },
  {
   "cell_type": "code",
   "execution_count": 11,
   "metadata": {},
   "outputs": [],
   "source": [
    "def puissance_vent (event):\n",
    "    \"\"\" fonction qui assigne à la variable puissance l'entier rentré par l'utilisateur.\n",
    "    La puissance du vent est en m/s, pour rester réaliste sa valeur pourra\n",
    "    aller jusqu'à 25 m/s (90 km/h)\"\"\"\n",
    "    global puissance\n",
    "    puissance = int (entre_puissance.get())\n",
    "    text2.configure (text=\"Puissance du vent: \"+str(puissance)+\" m/s\")"
   ]
  },
  {
   "cell_type": "code",
   "execution_count": 12,
   "metadata": {},
   "outputs": [],
   "source": [
    "def reserve_eau(event):\n",
    "    \"\"\" fonction qui assigne à la variable reserve l'entier entré par l'utilisateur\n",
    "    La réserve en eau maximale du sol est de 150 mL, elle baisse\n",
    "    exponentiellement avec la fin de la période des pluies.\n",
    "    Si la valeur rentrée est entre 101 et 150, il s'agit d'une sécheresse faible.\n",
    "    Si la valeur rentrée est entre 51 et 100, il s'agit d'une sécheresse moyenne.\n",
    "    Si la valeur rentrée est entre 31 et 50, il s'agit d'une sécheresse forte.\n",
    "    Si la valeur rentrée est entre 0 et 30, il s'agit d'une sécheresse très forte.\"\"\"\n",
    "    global reserve\n",
    "    reserve = int(entre_reserve.get())/6\n",
    "    text3.configure(text=\"Réserve en eau du sol: \"+str(reserve*6)+\" mL\")\n",
    "    # On divise cette valeur par 6 pour que les deux paramètres aient à peu près la même influence ( 150/6==25)"
   ]
  },
  {
   "cell_type": "markdown",
   "metadata": {},
   "source": [
    "Après des recherches sur les paramètres provoquants un incendie, on remarque que\n",
    "les deux seuls paramètres réellement influents sont la vitesse moyenne du vent \n",
    "et la reserve en eau du sol. Plus le vent est fort, plus le risque d'incendie est \n",
    "élevé et plus la réserve en eau du sol est faible plus le risque d'incendie est élevé.\n",
    "Les autres paramètres auxquels on peut penser comme l'humidité de l'air, la température,\n",
    "ou encore le type de végétation sont pas ou trop peu influents pour les prendre en\n",
    "considération dans notre simulation.\n",
    "L'influence de ces deux paramètres retenus est à peu près équivalente."
   ]
  },
  {
   "cell_type": "code",
   "execution_count": 13,
   "metadata": {},
   "outputs": [],
   "source": [
    "def test(p):\n",
    "    \"\"\" fonction qui a p% de chance de renvoyer True et (100-p)% de chance de renvoyer False\"\"\"\n",
    "    a = randrange(1,101)\n",
    "    if ( a> p):\n",
    "        return False\n",
    "    else:\n",
    "        return True "
   ]
  },
  {
   "cell_type": "code",
   "execution_count": 14,
   "metadata": {},
   "outputs": [],
   "source": [
    "def test_case(x):\n",
    "    \"\"\" fonction qui prend en paramètre la direction d'une case adjacente à une case rouge dans la liste L\n",
    "    Retourne retourne True si la case passe le test, False sinon.\n",
    "    La probabilité p de passer le test diminue fortement avec l'augmentation de la réserve en eau du sol.\n",
    "    La probabilité p de passer le test augmente fortement si la direction de la case adjacente est dans le sens du vent.\n",
    "    La probabilité p de passer le test diminue si la direction de la case adjacente est dans le oppposé au vent.\n",
    "    La probabilité p de passer le test augmente faiblement si la direction de la case adjacente est perpendiculaire au vent.\n",
    "    \"\"\"\n",
    "    global cp1,cp2,cp3 # servent seulement à print UNE FOIS p pour chaque cas.\n",
    "    a = x[0] + direction[0] \n",
    "    M=[\"oe\",\"eo\",\"ns\",\"sn\"]\n",
    "    p1=p - reserve * 3\n",
    "    if (x == direction):# cas où la direction de la case est dans le sens du vent\n",
    "        p1 = p1 + puissance*3\n",
    "        if (cp1==0):\n",
    "            print(\"dans le sens du vent p= \",p1)\n",
    "            cp1+=1\n",
    "            \n",
    "        \n",
    "    elif (a in M):#cas où la direction de la case est dans le sens opposé au vent\n",
    "        p1=p1-puissance\n",
    "        if (cp2==0):\n",
    "            print (\"dans le sens oppose au vent p= \",p1)\n",
    "            cp2+=1\n",
    "    else : # cas où la direction de la case est perpendiculaire au sens du vent\n",
    "        p1= p1+puissance\n",
    "        if (cp3==0):\n",
    "            cp3+=1\n",
    "            print (\"dans le sens perpendiculaire au vent p= \",p1)\n",
    "         \n",
    "    return test(p1) # on retourne le test"
   ]
  },
  {
   "cell_type": "markdown",
   "metadata": {},
   "source": [
    "# PROGRAMME PRINCIPAL"
   ]
  },
  {
   "cell_type": "markdown",
   "metadata": {},
   "source": [
    "#### Les variables"
   ]
  },
  {
   "cell_type": "code",
   "execution_count": 15,
   "metadata": {},
   "outputs": [],
   "source": [
    "L= []\n",
    "hauteur =600 # hauteur et longueur doivent être des multiples de 20\n",
    "longueur=600\n",
    "tour_cendre=1 # Le nombre de tour avant qu'une case enflammée ne soit plus que cendre.\n",
    "p=100\n",
    "nb_ligne=int(longueur/20)\n",
    "nb_colonne=int(hauteur/20)\n",
    "nb_cases = nb_colonne * nb_ligne \n",
    "nb_cases == len(L)\n",
    "puissance=0\n",
    "reserve=0\n",
    "direction =\"aucune\"\n",
    "\n",
    "cp1=0\n",
    "cp2=0\n",
    "cp3=0\n"
   ]
  },
  {
   "cell_type": "markdown",
   "metadata": {},
   "source": [
    "#### Création des widgets"
   ]
  },
  {
   "cell_type": "code",
   "execution_count": 16,
   "metadata": {},
   "outputs": [],
   "source": [
    "fen = Tk()\n",
    "entre_puissance=Entry (fen)\n",
    "entre_puissance.bind (\"<Return>\",puissance_vent)\n",
    "entre_direction=Entry (fen)\n",
    "entre_direction.bind (\"<Return>\",direction_vent)\n",
    "entre_reserve=Entry(fen)\n",
    "entre_reserve.bind(\"<Return>\",reserve_eau)\n",
    "text1 = Label(text=\"Direction du vent: \"+direction)\n",
    "text2 = Label (text=\"Puissance du vent: \"+str(puissance)+\" m/s\")\n",
    "text3= Label (text=\"Réserve en eau du sol: \"+str(reserve)+\" mL\")\n",
    "canvas = Canvas (fen, height =600,width=600,bg=\"white\")"
   ]
  },
  {
   "cell_type": "markdown",
   "metadata": {},
   "source": [
    "#### Le placement des widgets"
   ]
  },
  {
   "cell_type": "code",
   "execution_count": 17,
   "metadata": {},
   "outputs": [],
   "source": [
    "Label(text=\"Reserve d'eau du sol:   entre 0 et 150 mL\").grid(row=5,column=0,sticky=E)\n",
    "entre_reserve.grid(row=5,column=1,sticky=W)\n",
    "Label (text=\"Puissance du vent:   entre 0 et 25 m/s\").grid(row=6,column=0,sticky=E)\n",
    "entre_puissance.grid(row=6,column=1,sticky=W)\n",
    "Label (text=\"Direction du vent :   ouest,est,sud ou nord\").grid(row=7,column=0,sticky=E)\n",
    "entre_direction.grid(row=7,column=1,sticky=W)\n",
    "Button (text=\"initialisation feu\", command=initialisation_feu).grid(row=6,column=2)\n",
    "Button (text=\"riviere aleatoire\",command=riviere_aleatoire).grid(row=5,column=2)\n",
    "Button (text=\"propagation feu\",command=propagation_feu).grid(row=7,column=2)\n",
    "text1.grid (row=0,column=0,sticky=W)\n",
    "text2.grid (row=0,column=1)\n",
    "text3.grid (row=0,column=2,sticky=E)\n",
    "canvas.grid (row=1,column=0,rowspan=3,columnspan=3)"
   ]
  },
  {
   "cell_type": "code",
   "execution_count": 18,
   "metadata": {},
   "outputs": [
    {
     "name": "stdout",
     "output_type": "stream",
     "text": [
      "dans le sens oppose au vent p=  37.5\n",
      "dans le sens du vent p=  137.5\n",
      "dans le sens perpendiculaire au vent p=  87.5\n"
     ]
    }
   ],
   "source": [
    "creation_terrain()\n",
    "vide()\n",
    "fen.mainloop()"
   ]
  }
 ],
 "metadata": {
  "kernelspec": {
   "display_name": "Python 3",
   "language": "python",
   "name": "python3"
  },
  "language_info": {
   "codemirror_mode": {
    "name": "ipython",
    "version": 3
   },
   "file_extension": ".py",
   "mimetype": "text/x-python",
   "name": "python",
   "nbconvert_exporter": "python",
   "pygments_lexer": "ipython3",
   "version": "3.7.6"
  }
 },
 "nbformat": 4,
 "nbformat_minor": 4
}
